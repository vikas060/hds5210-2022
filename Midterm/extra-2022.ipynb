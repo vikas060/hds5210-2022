{
 "cells": [
  {
   "cell_type": "markdown",
   "metadata": {},
   "source": [
    "# HDS5210-2022 Extra Assignment\n",
    "\n",
    "This extra assignment is your opportunity to earn back up to 20 points toward your final grade. The points you earn from this assignment will be added onto your updated midterm grade once I've had the chance to review both your updated midterm and this assignment.\n",
    "\n",
    "As with your updated midterm file (which you can simply resubmit using the original instructions and the same original file), this assignment is due Monday, March 28 at 11:59 PM.\n",
    "\n",
    "If you have any questions, please reach out to me on Slack or via email. I'm happy to provide guidance and help with any confusion you may have.\n",
    "\n",
    "---"
   ]
  },
  {
   "cell_type": "markdown",
   "metadata": {},
   "source": [
    "## Part 1: Reading and using JSON\n",
    "\n",
    "In the **/data** directory, there is a file named **apache_rules.json**.  Copy that to this same folder because you're going to need to make updates to it in part 2. This file contains rules for how to calculate part of the risk scores for something called the [Apache II ICU Mortality Score](https://www.mdcalc.com/apache-ii-score).  In the JSON file, you'll see some basic rules information.  In this part of the assignment, you're going to write a function for calculating one part of the Apache II risk score.\n",
    "\n",
    "You'll see two parts in the **apache_rules.json** file.  The first is a mapping between \"Organ Failure History\" values and the points associated with each.\n",
    "\n",
    "```json\n",
    "\"Organ Failure History\" : {\n",
    "    \"Nonoperative\": 5,\n",
    "    \"Emergency\": 5,\n",
    "    \"Elective\": 2,\n",
    "    \"None\": 0\n",
    "}\n",
    "```\n",
    "\n",
    "You'll need to write a function called **apache_organ_failure(json_file, history)** that takes two strings as parameters.  The first parameter is the name of the JSON file, which should be \"apache_rules.json\". The second parameter will be one of the possible values shown in the \"Organ Failure History\" dictionary:\n",
    "* Nonoperative\n",
    "* Emergency\n",
    "* Elective\n",
    "* None\n",
    "\n",
    "Your **apache_organ_failure()** function should return the associated risk score from the JSON file. That is, you should use the information in JSON file to determine the score.  You **should not** write if/elif statements in your code. Here is an outline of what your code needs to do:\n",
    "1. Read the **json_file** file and load the JSON into a Python dictionary, which I will name **rules** for this explanation\n",
    "2. Get the value from the dictionary associated with **rules\\[\"Organ Failure History\"\\]\\[history\\]**\n",
    "3. Return that value\n"
   ]
  },
  {
   "cell_type": "code",
   "execution_count": 99,
   "metadata": {},
   "outputs": [],
   "source": [
    "import json\n",
    "\n",
    "## PUT YOUR SOLUTION HERE\n",
    "\n",
    "def apache_organ_failure(json_file,history):  \n",
    "    return(json.load(open(\"../../\"+json_file))[\"Organ Failure History\"][history])"
   ]
  },
  {
   "cell_type": "markdown",
   "metadata": {},
   "source": [
    "The test cases below should all pass.  They effectively test the following conditions:\n",
    "* If history is \"Nonoperative\" then the score should be 5\n",
    "* If history is \"Emergecy\" then the score should be 5\n",
    "* If history is \"Elective\" then the score should be 2\n",
    "* If history is \"None\" then the score should be 0"
   ]
  },
  {
   "cell_type": "code",
   "execution_count": 100,
   "metadata": {},
   "outputs": [],
   "source": [
    "assert apache_organ_failure('apache_rules.json','Nonoperative') == 5\n",
    "assert apache_organ_failure('apache_rules.json','Emergency') == 5\n",
    "assert apache_organ_failure('apache_rules.json','Elective') == 2\n",
    "assert apache_organ_failure('apache_rules.json','None') == 0"
   ]
  },
  {
   "cell_type": "markdown",
   "metadata": {},
   "source": [
    "## Part 2: Updating your JSON\n",
    "\n",
    "The next part of the Apache II risk score is based on age range. You'll see an example of how to encode range-based rules into JSON.  The **apached_rules.json** file includes the following information:\n",
    "\n",
    "```json\n",
    "\"Age\": [\n",
    "    { \"min\":  0, \"max\": 45,  \"points\": 0 },\n",
    "    { \"min\": 45, \"max\": 55,  \"points\": 2 },\n",
    "    { \"min\": 75, \"max\": 999, \"points\": 6 }\n",
    "]\n",
    "```\n",
    "\n",
    "How you can interpret this is:\n",
    "* If the age is >= 0 and < 45, then return 0 points\n",
    "* If the age is >= 45 and < 55, then return 2 points\n",
    "* If the age is >= 75 and < 999, then return 6 points\n",
    "\n",
    "This section of the JSON file is not complete.  The first thing you must do is write the missing rules. The rules provided on the MD Calc web site for [Apache II Score](https://www.mdcalc.com/apache-ii-score#evidence) show two addition rules.\n",
    "\n",
    "**Update the apache_rules.json file with those missing rules**\n",
    "\n",
    "Then, you'll need to write a function that uses that information to apply the rules in the JSON file and calculate the score.  Write a function named **apache_age(json_file, age)** that takes two parameters. The JSON file and the age. Your function should use the \"Age\" section of the JSON file to compute the number of points and return that number.\n",
    "\n",
    "Here is a way to approach that:\n",
    "* Read the JSON file and load it into a Python dictionary\n",
    "* Loop through the information under the \"Age\" key in the dictionary\n",
    "* For each rule there, compare the **age** parameter with the min and max values in the rule\n",
    "* If the **age** parameter falls between the min and max, return the associated points\n"
   ]
  },
  {
   "cell_type": "code",
   "execution_count": 103,
   "metadata": {},
   "outputs": [],
   "source": [
    "import json\n",
    "\n",
    "### PUT YOUR SOLUTION HERE\n",
    "\n",
    "d = json.load(open(\"../../apache_rules.json\"))\n",
    "d[\"Age\"].append({\"min\": 55, \"max\": 65, \"points\": 3})\n",
    "d[\"Age\"].append({\"min\": 65, \"max\": 75, \"points\": 5})\n",
    "with open(\"../../apache_rules.json\", \"w\") as o:\n",
    "    o.write(json.dumps(d))\n",
    "def apache_age(json_file, age):\n",
    "    d = json.load(open(\"../../\"+json_file))\n",
    "    for v in d[\"Age\"]:\n",
    "        if age >= v[\"min\"] and age < v[\"max\"]:\n",
    "            return v[\"points\"]"
   ]
  },
  {
   "cell_type": "markdown",
   "metadata": {},
   "source": [
    "The test cases below will help you verify that your code is working correctly. After you've updated your **apache_rules.json** file and written your **apache_age()** function, all of the assertions should pass without error"
   ]
  },
  {
   "cell_type": "code",
   "execution_count": 104,
   "metadata": {},
   "outputs": [],
   "source": [
    "assert apache_age('apache_rules.json', 5) == 0\n",
    "assert apache_age('apache_rules.json', 40) == 0\n",
    "assert apache_age('apache_rules.json', 50) == 2\n",
    "assert apache_age('apache_rules.json', 60) == 3\n",
    "assert apache_age('apache_rules.json', 70) == 5\n",
    "assert apache_age('apache_rules.json', 80) == 6\n",
    "assert apache_age('apache_rules.json', 90) == 6"
   ]
  },
  {
   "cell_type": "markdown",
   "metadata": {},
   "source": [
    "## Part 3: Test Your Work\n",
    "\n",
    "Finally, write a function called **test_apache(input_file, json_file)** that takes two parameters.  The first is an input file that will be CSV formatted. The second is the name of the JSON file with the apache rules in it.\n",
    "\n",
    "You can find find the input file in **/data/apache_patients.csv**.  This file has four fields in it:\n",
    "1. patient_id\n",
    "2. history\n",
    "3. age\n",
    "4. total\n",
    "\n",
    "Your **test_apache()** function should read the input file, calculate the points based on the history value, calculate the points based on age, add those together, and compare them to the total in the input file.\n",
    "\n",
    "If your score matches the total, print the patient ID and the word \"match\". If they do not match, print the patient ID and the word \"don't match\".\n",
    "\n",
    "All of your scores should match the total in the input file."
   ]
  },
  {
   "cell_type": "code",
   "execution_count": 105,
   "metadata": {},
   "outputs": [],
   "source": [
    "import csv\n",
    "import pandas as pd\n",
    "### PUT YOUR SOLUTION HERE\n",
    "\n",
    "\n",
    "def test_apache(input_file, json_file):\n",
    "\n",
    "    inf = csv.values.tolist(pd.read_csv (input_file))\n",
    "    d = json.load(open('../..'+'/'+json_file))\n",
    "    for list_ in inf:\n",
    "        print(list_[0], \"match\") if  apache_organ_failure(json_file, list_[1]) + apache_age(json_file, list_[2]) == list_[3] else print(list_[0], \"don't match\")\n",
    "    "
   ]
  },
  {
   "cell_type": "code",
   "execution_count": 106,
   "metadata": {},
   "outputs": [
    {
     "ename": "AttributeError",
     "evalue": "module 'csv' has no attribute 'values'",
     "output_type": "error",
     "traceback": [
      "\u001b[0;31m---------------------------------------------------------------------------\u001b[0m",
      "\u001b[0;31mAttributeError\u001b[0m                            Traceback (most recent call last)",
      "\u001b[0;32m<ipython-input-106-1cf80814f1e2>\u001b[0m in \u001b[0;36m<module>\u001b[0;34m\u001b[0m\n\u001b[0;32m----> 1\u001b[0;31m \u001b[0mtest_apache\u001b[0m\u001b[0;34m(\u001b[0m\u001b[0;34m'/data/apache_patients.csv'\u001b[0m\u001b[0;34m,\u001b[0m \u001b[0;34m'apache_rules.json'\u001b[0m\u001b[0;34m)\u001b[0m\u001b[0;34m\u001b[0m\u001b[0;34m\u001b[0m\u001b[0m\n\u001b[0m",
      "\u001b[0;32m<ipython-input-105-777387972462>\u001b[0m in \u001b[0;36mtest_apache\u001b[0;34m(input_file, json_file)\u001b[0m\n\u001b[1;32m      6\u001b[0m \u001b[0;32mdef\u001b[0m \u001b[0mtest_apache\u001b[0m\u001b[0;34m(\u001b[0m\u001b[0minput_file\u001b[0m\u001b[0;34m,\u001b[0m \u001b[0mjson_file\u001b[0m\u001b[0;34m)\u001b[0m\u001b[0;34m:\u001b[0m\u001b[0;34m\u001b[0m\u001b[0;34m\u001b[0m\u001b[0m\n\u001b[1;32m      7\u001b[0m \u001b[0;34m\u001b[0m\u001b[0m\n\u001b[0;32m----> 8\u001b[0;31m     \u001b[0minf\u001b[0m \u001b[0;34m=\u001b[0m \u001b[0mcsv\u001b[0m\u001b[0;34m.\u001b[0m\u001b[0mvalues\u001b[0m\u001b[0;34m.\u001b[0m\u001b[0mtolist\u001b[0m\u001b[0;34m(\u001b[0m\u001b[0mpd\u001b[0m\u001b[0;34m.\u001b[0m\u001b[0mread_csv\u001b[0m \u001b[0;34m(\u001b[0m\u001b[0minput_file\u001b[0m\u001b[0;34m)\u001b[0m\u001b[0;34m)\u001b[0m\u001b[0;34m\u001b[0m\u001b[0;34m\u001b[0m\u001b[0m\n\u001b[0m\u001b[1;32m      9\u001b[0m     \u001b[0md\u001b[0m \u001b[0;34m=\u001b[0m \u001b[0mjson\u001b[0m\u001b[0;34m.\u001b[0m\u001b[0mload\u001b[0m\u001b[0;34m(\u001b[0m\u001b[0mopen\u001b[0m\u001b[0;34m(\u001b[0m\u001b[0;34m'../..'\u001b[0m\u001b[0;34m+\u001b[0m\u001b[0;34m'/'\u001b[0m\u001b[0;34m+\u001b[0m\u001b[0mjson_file\u001b[0m\u001b[0;34m)\u001b[0m\u001b[0;34m)\u001b[0m\u001b[0;34m\u001b[0m\u001b[0;34m\u001b[0m\u001b[0m\n\u001b[1;32m     10\u001b[0m     \u001b[0;32mfor\u001b[0m \u001b[0mlist_\u001b[0m \u001b[0;32min\u001b[0m \u001b[0minf\u001b[0m\u001b[0;34m:\u001b[0m\u001b[0;34m\u001b[0m\u001b[0;34m\u001b[0m\u001b[0m\n",
      "\u001b[0;31mAttributeError\u001b[0m: module 'csv' has no attribute 'values'"
     ]
    }
   ],
   "source": [
    "test_apache('/data/apache_patients.csv', 'apache_rules.json')"
   ]
  },
  {
   "cell_type": "markdown",
   "metadata": {},
   "source": [
    "---\n",
    "\n",
    "## Check your work above\n",
    "\n",
    "If you didn't get them all correct, take a few minutes to think through those that aren't correct.\n",
    "\n",
    "\n",
    "## Submitting Your Work\n",
    "\n",
    "In order to submit your work, you'll need to use the `git` command line program to **add** your homework file (this file) to your local repository, **commit** your changes to your local repository, and then **push** those changes up to github.com.  From there, I'll be able to **pull** the changes down and do my grading.  I'll provide some feedback, **commit** and **push** my comments back to you.  Next week, I'll show you how to **pull** down my comments.\n",
    "\n",
    "To run through everything one last time and submit your work:\n",
    "1. Use the `Kernel` -> `Restart Kernel and Run All Cells` menu option to run everything from top to bottom and stop here.\n",
    "2. Follow the instruction on the prompt below to either ssave and submit your work, or continue working.\n",
    "\n",
    "If anything fails along the way with this submission part of the process, let me know.  I'll help you troubleshoort."
   ]
  },
  {
   "cell_type": "markdown",
   "metadata": {},
   "source": [
    "---"
   ]
  },
  {
   "cell_type": "code",
   "execution_count": 98,
   "metadata": {
    "jupyter": {
     "source_hidden": true
    }
   },
   "outputs": [
    {
     "name": "stdin",
     "output_type": "stream",
     "text": [
      "\n",
      "Are you ready to submit your work?\n",
      "1. Click the Save icon (or do Ctrl-S / Cmd-S)\n",
      "2. Type \"yes\" or \"no\" below\n",
      "3. Press Enter\n",
      "\n",
      " yes\n"
     ]
    },
    {
     "name": "stdout",
     "output_type": "stream",
     "text": [
      "fatal: pathspec 'apache_rules.json' did not match any files\n",
      "[main 7060078] Submitting the extra assignment\n",
      " 2 files changed, 363 insertions(+), 2 deletions(-)\n",
      " create mode 100644 Midterm/extra-2022.ipynb\n",
      "Counting objects: 5, done.\n",
      "Delta compression using up to 2 threads.\n",
      "Compressing objects: 100% (5/5), done.\n",
      "Writing objects: 100% (5/5), 4.93 KiB | 4.93 MiB/s, done.\n",
      "Total 5 (delta 2), reused 0 (delta 0)\n",
      "remote: Resolving deltas: 100% (2/2), completed with 2 local objects.\u001b[K\n",
      "To github.com:vikas060/hds5210-2022.git\n",
      "   ddf2c59..7060078  main -> main\n"
     ]
    }
   ],
   "source": [
    "a=input('''\n",
    "Are you ready to submit your work?\n",
    "1. Click the Save icon (or do Ctrl-S / Cmd-S)\n",
    "2. Type \"yes\" or \"no\" below\n",
    "3. Press Enter\n",
    "\n",
    "''')\n",
    "\n",
    "if a=='yes':\n",
    "    !git add \"extra-2022.ipynb\"\n",
    "    !git add \"apache_rules.json\"\n",
    "    !git commit -a -m \"Submitting the extra assignment\"\n",
    "    !git push\n",
    "else:\n",
    "    print('''\n",
    "    \n",
    "OK. We can wait.\n",
    "''')"
   ]
  },
  {
   "cell_type": "code",
   "execution_count": null,
   "metadata": {},
   "outputs": [],
   "source": []
  }
 ],
 "metadata": {
  "kernelspec": {
   "display_name": "Python 3",
   "language": "python",
   "name": "python3"
  },
  "language_info": {
   "codemirror_mode": {
    "name": "ipython",
    "version": 3
   },
   "file_extension": ".py",
   "mimetype": "text/x-python",
   "name": "python",
   "nbconvert_exporter": "python",
   "pygments_lexer": "ipython3",
   "version": "3.6.7"
  }
 },
 "nbformat": 4,
 "nbformat_minor": 4
}
